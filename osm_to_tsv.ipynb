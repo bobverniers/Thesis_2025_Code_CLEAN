{
 "cells": [
  {
   "cell_type": "code",
   "execution_count": 2,
   "metadata": {},
   "outputs": [],
   "source": [
    "import osmium\n",
    "import os "
   ]
  },
  {
   "cell_type": "code",
   "execution_count": 5,
   "metadata": {},
   "outputs": [
    {
     "name": "stdout",
     "output_type": "stream",
     "text": [
      "Tag sets have been extracted and saved to /Users/bobi/Desktop/Thesis/RecommenderServer/geofabrik/netherlands-latest.tsv\n"
     ]
    }
   ],
   "source": [
    "class TagSetExtractor(osmium.SimpleHandler):\n",
    "    def __init__(self, output_file):\n",
    "        super().__init__()\n",
    "        self.out = open(output_file, 'w')\n",
    "\n",
    "    def write_tags(self, tags):\n",
    "        keys = [tag.k for tag in tags]\n",
    "        if keys:\n",
    "            self.out.write(\" \".join(keys) + \"\\n\")\n",
    "\n",
    "    def node(self, n):\n",
    "        self.write_tags(n.tags)\n",
    "\n",
    "    def way(self, w):\n",
    "        self.write_tags(w.tags)\n",
    "\n",
    "    def relation(self, r):\n",
    "        self.write_tags(r.tags)\n",
    "    \n",
    "    def close(self):\n",
    "        self.out.close()\n",
    "\n",
    "PBF_path = \"/Users/bobi/Desktop/Thesis/RecommenderServer/geofabrik/netherlands-latest.osm.pbf\"\n",
    "TSV_OUT_path = \"/Users/bobi/Desktop/Thesis/RecommenderServer/geofabrik/netherlands-latest.tsv\" #output to this path\n",
    "\n",
    "extractor = TagSetExtractor(TSV_OUT_path)\n",
    "extractor.apply_file(PBF_path, locations=False)\n",
    "extractor.close()\n",
    "\n",
    "print(\"Tag sets have been extracted and saved to\", TSV_OUT_path)"
   ]
  }
 ],
 "metadata": {
  "kernelspec": {
   "display_name": "base",
   "language": "python",
   "name": "python3"
  },
  "language_info": {
   "codemirror_mode": {
    "name": "ipython",
    "version": 3
   },
   "file_extension": ".py",
   "mimetype": "text/x-python",
   "name": "python",
   "nbconvert_exporter": "python",
   "pygments_lexer": "ipython3",
   "version": "3.12.2"
  }
 },
 "nbformat": 4,
 "nbformat_minor": 2
}
